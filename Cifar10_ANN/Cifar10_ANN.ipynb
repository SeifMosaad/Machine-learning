{
  "nbformat": 4,
  "nbformat_minor": 0,
  "metadata": {
    "colab": {
      "name": "Cifar10_ANN.ipynb",
      "provenance": []
    },
    "kernelspec": {
      "name": "python3",
      "display_name": "Python 3"
    },
    "language_info": {
      "name": "python"
    },
    "accelerator": "GPU"
  },
  "cells": [
    {
      "cell_type": "code",
      "execution_count": 14,
      "metadata": {
        "id": "Q8bhOcWEu6h8"
      },
      "outputs": [],
      "source": [
        "import tensorflow as tf\n",
        "from tensorflow import keras\n",
        "from tensorflow.keras import datasets, layers, models\n",
        "import matplotlib.pyplot as plt\n",
        "import numpy as np"
      ]
    },
    {
      "cell_type": "code",
      "source": [
        "(X_train, y_train), (X_test, y_test) = datasets.cifar10.load_data()\n",
        "X_train.shape"
      ],
      "metadata": {
        "colab": {
          "base_uri": "https://localhost:8080/"
        },
        "id": "KJE-TxNjvFaV",
        "outputId": "2053bd40-718d-4e1e-f955-1b0fb3966b3f"
      },
      "execution_count": 2,
      "outputs": [
        {
          "output_type": "stream",
          "name": "stdout",
          "text": [
            "Downloading data from https://www.cs.toronto.edu/~kriz/cifar-10-python.tar.gz\n",
            "170500096/170498071 [==============================] - 11s 0us/step\n",
            "170508288/170498071 [==============================] - 11s 0us/step\n"
          ]
        },
        {
          "output_type": "execute_result",
          "data": {
            "text/plain": [
              "(50000, 32, 32, 3)"
            ]
          },
          "metadata": {},
          "execution_count": 2
        }
      ]
    },
    {
      "cell_type": "code",
      "source": [
        "X_test.shape"
      ],
      "metadata": {
        "colab": {
          "base_uri": "https://localhost:8080/"
        },
        "id": "cEQ8kuNcvZi0",
        "outputId": "4097f7b7-c68b-464b-9b96-189e3262be64"
      },
      "execution_count": 3,
      "outputs": [
        {
          "output_type": "execute_result",
          "data": {
            "text/plain": [
              "(10000, 32, 32, 3)"
            ]
          },
          "metadata": {},
          "execution_count": 3
        }
      ]
    },
    {
      "cell_type": "code",
      "source": [
        "X_train[9]"
      ],
      "metadata": {
        "id": "hgvQ2oDsve4O",
        "colab": {
          "base_uri": "https://localhost:8080/"
        },
        "outputId": "b66e2dfc-9adb-4dba-cb91-350114eee5be"
      },
      "execution_count": 4,
      "outputs": [
        {
          "output_type": "execute_result",
          "data": {
            "text/plain": [
              "array([[[125, 125, 116],\n",
              "        [110, 101,  91],\n",
              "        [102,  90,  83],\n",
              "        ...,\n",
              "        [202, 207, 214],\n",
              "        [200, 205, 212],\n",
              "        [202, 208, 214]],\n",
              "\n",
              "       [[142, 146, 142],\n",
              "        [146, 144, 139],\n",
              "        [176, 172, 170],\n",
              "        ...,\n",
              "        [195, 201, 205],\n",
              "        [198, 205, 209],\n",
              "        [204, 211, 215]],\n",
              "\n",
              "       [[180, 185, 183],\n",
              "        [143, 146, 146],\n",
              "        [156, 157, 157],\n",
              "        ...,\n",
              "        [122, 111, 113],\n",
              "        [139, 128, 131],\n",
              "        [158, 147, 150]],\n",
              "\n",
              "       ...,\n",
              "\n",
              "       [[104,  82,  41],\n",
              "        [101,  80,  39],\n",
              "        [101,  81,  38],\n",
              "        ...,\n",
              "        [126, 103,  67],\n",
              "        [126, 103,  69],\n",
              "        [125, 101,  68]],\n",
              "\n",
              "       [[104,  81,  40],\n",
              "        [105,  84,  41],\n",
              "        [109,  88,  43],\n",
              "        ...,\n",
              "        [138, 113,  78],\n",
              "        [137, 113,  80],\n",
              "        [137, 112,  81]],\n",
              "\n",
              "       [[105,  83,  42],\n",
              "        [108,  87,  45],\n",
              "        [115,  94,  50],\n",
              "        ...,\n",
              "        [143, 117,  82],\n",
              "        [143, 116,  84],\n",
              "        [144, 116,  86]]], dtype=uint8)"
            ]
          },
          "metadata": {},
          "execution_count": 4
        }
      ]
    },
    {
      "cell_type": "code",
      "source": [
        "y_train[:5]"
      ],
      "metadata": {
        "colab": {
          "base_uri": "https://localhost:8080/"
        },
        "id": "RgY9XJclwgPK",
        "outputId": "7cd7bb49-66f0-4510-e50f-3615fa783302"
      },
      "execution_count": 5,
      "outputs": [
        {
          "output_type": "execute_result",
          "data": {
            "text/plain": [
              "array([[6],\n",
              "       [9],\n",
              "       [9],\n",
              "       [4],\n",
              "       [1]], dtype=uint8)"
            ]
          },
          "metadata": {},
          "execution_count": 5
        }
      ]
    },
    {
      "cell_type": "code",
      "source": [
        "y_train = y_train.reshape(-1,)\n",
        "y_test = y_test.reshape(-1,)\n",
        "y_train[:5]"
      ],
      "metadata": {
        "colab": {
          "base_uri": "https://localhost:8080/"
        },
        "id": "izagfoT7wvpR",
        "outputId": "3dd2ce8d-5ff6-4aa6-8f80-ca56221f99a3"
      },
      "execution_count": 6,
      "outputs": [
        {
          "output_type": "execute_result",
          "data": {
            "text/plain": [
              "array([6, 9, 9, 4, 1], dtype=uint8)"
            ]
          },
          "metadata": {},
          "execution_count": 6
        }
      ]
    },
    {
      "cell_type": "code",
      "source": [
        "classes = [\"airplane\", \"automobile\", \"bird\", \"cat\", \"deer\", \"dog\", \"frog\", \"horse\", \"ship\", \"truck\"]"
      ],
      "metadata": {
        "id": "3UkUs2UFwHMv"
      },
      "execution_count": 8,
      "outputs": []
    },
    {
      "cell_type": "code",
      "source": [
        "def plot_sample(X, y, index):\n",
        "  plt.figure(figsize=(15, 2))\n",
        "  plt.imshow(X[index])\n",
        "  plt.xlabel(classes[y[index]])"
      ],
      "metadata": {
        "id": "IWXDnBzPvhey"
      },
      "execution_count": 9,
      "outputs": []
    },
    {
      "cell_type": "code",
      "source": [
        "plot_sample(X_train, y_train, 1)"
      ],
      "metadata": {
        "colab": {
          "base_uri": "https://localhost:8080/",
          "height": 173
        },
        "id": "OneC5oAuvplO",
        "outputId": "f14ca171-d361-4d63-80e0-fd645a18890b"
      },
      "execution_count": 10,
      "outputs": [
        {
          "output_type": "display_data",
          "data": {
            "image/png": "[encoded data removed]",
            "text/plain": [
              "<Figure size 1080x144 with 1 Axes>"
            ]
          },
          "metadata": {
            "needs_background": "light"
          }
        }
      ]
    },
    {
      "cell_type": "code",
      "source": [
        "X_train[0]"
      ],
      "metadata": {
        "id": "5WewLw1FxDGz",
        "colab": {
          "base_uri": "https://localhost:8080/"
        },
        "outputId": "f90aa52c-4460-4b27-af8c-8e9804356248"
      },
      "execution_count": 11,
      "outputs": [
        {
          "output_type": "execute_result",
          "data": {
            "text/plain": [
              "array([[[ 59,  62,  63],\n",
              "        [ 43,  46,  45],\n",
              "        [ 50,  48,  43],\n",
              "        ...,\n",
              "        [158, 132, 108],\n",
              "        [152, 125, 102],\n",
              "        [148, 124, 103]],\n",
              "\n",
              "       [[ 16,  20,  20],\n",
              "        [  0,   0,   0],\n",
              "        [ 18,   8,   0],\n",
              "        ...,\n",
              "        [123,  88,  55],\n",
              "        [119,  83,  50],\n",
              "        [122,  87,  57]],\n",
              "\n",
              "       [[ 25,  24,  21],\n",
              "        [ 16,   7,   0],\n",
              "        [ 49,  27,   8],\n",
              "        ...,\n",
              "        [118,  84,  50],\n",
              "        [120,  84,  50],\n",
              "        [109,  73,  42]],\n",
              "\n",
              "       ...,\n",
              "\n",
              "       [[208, 170,  96],\n",
              "        [201, 153,  34],\n",
              "        [198, 161,  26],\n",
              "        ...,\n",
              "        [160, 133,  70],\n",
              "        [ 56,  31,   7],\n",
              "        [ 53,  34,  20]],\n",
              "\n",
              "       [[180, 139,  96],\n",
              "        [173, 123,  42],\n",
              "        [186, 144,  30],\n",
              "        ...,\n",
              "        [184, 148,  94],\n",
              "        [ 97,  62,  34],\n",
              "        [ 83,  53,  34]],\n",
              "\n",
              "       [[177, 144, 116],\n",
              "        [168, 129,  94],\n",
              "        [179, 142,  87],\n",
              "        ...,\n",
              "        [216, 184, 140],\n",
              "        [151, 118,  84],\n",
              "        [123,  92,  72]]], dtype=uint8)"
            ]
          },
          "metadata": {},
          "execution_count": 11
        }
      ]
    },
    {
      "cell_type": "code",
      "source": [
        "X_train = X_train/255\n",
        "X_test = X_test/255"
      ],
      "metadata": {
        "id": "Zy3D4Plc6Pb_"
      },
      "execution_count": 12,
      "outputs": []
    },
    {
      "cell_type": "code",
      "source": [
        "y_train_categorical = keras.utils.to_categorical(\n",
        "    y_train, num_classes=10, dtype='float32'\n",
        ")\n",
        "y_train_categorical[:5]"
      ],
      "metadata": {
        "colab": {
          "base_uri": "https://localhost:8080/"
        },
        "id": "LMcmkRdIl8Ey",
        "outputId": "2af37cb5-1ff7-4f77-bb14-fc190581d4bb"
      },
      "execution_count": 15,
      "outputs": [
        {
          "output_type": "execute_result",
          "data": {
            "text/plain": [
              "array([[0., 0., 0., 0., 0., 0., 1., 0., 0., 0.],\n",
              "       [0., 0., 0., 0., 0., 0., 0., 0., 0., 1.],\n",
              "       [0., 0., 0., 0., 0., 0., 0., 0., 0., 1.],\n",
              "       [0., 0., 0., 0., 1., 0., 0., 0., 0., 0.],\n",
              "       [0., 1., 0., 0., 0., 0., 0., 0., 0., 0.]], dtype=float32)"
            ]
          },
          "metadata": {},
          "execution_count": 15
        }
      ]
    },
    {
      "cell_type": "code",
      "source": [
        "y_test_categorical = keras.utils.to_categorical(\n",
        "    y_test, num_classes= 10, dtype='float32'\n",
        ")"
      ],
      "metadata": {
        "id": "mtxC4C2nmbeA"
      },
      "execution_count": 16,
      "outputs": []
    },
    {
      "cell_type": "code",
      "source": [
        "X_train.shape"
      ],
      "metadata": {
        "colab": {
          "base_uri": "https://localhost:8080/"
        },
        "id": "xKhpVV5smmHB",
        "outputId": "395f3d1b-f1c1-4383-eefd-089591a71f4b"
      },
      "execution_count": 17,
      "outputs": [
        {
          "output_type": "execute_result",
          "data": {
            "text/plain": [
              "(50000, 32, 32, 3)"
            ]
          },
          "metadata": {},
          "execution_count": 17
        }
      ]
    },
    {
      "cell_type": "code",
      "source": [
        "ann = models.Sequential([\n",
        "                           layers.Flatten(input_shape=(32,32,3)),\n",
        "                           layers.Dense(3000, activation = 'relu'),\n",
        "                           layers.Dense(1000, activation = 'relu'),\n",
        "                           layers.Dense(10, activation = 'sigmoid')\n",
        "])\n",
        "ann.compile(optimizer = 'SGD',\n",
        "            loss = 'categorical_crossentropy',\n",
        "            metrics = ['accuracy'])\n",
        "ann.fit(X_train, y_train_categorical, epochs = 50)"
      ],
      "metadata": {
        "colab": {
          "base_uri": "https://localhost:8080/"
        },
        "id": "BoFc94AD6UIk",
        "outputId": "fbd52bd4-9cd3-48fb-b75e-d805dedf9005"
      },
      "execution_count": 18,
      "outputs": [
        {
          "output_type": "stream",
          "name": "stdout",
          "text": [
            "Epoch 1/50\n",
            "1563/1563 [==============================] - 13s 7ms/step - loss: 1.8116 - accuracy: 0.3554\n",
            "Epoch 2/50\n",
            "1563/1563 [==============================] - 11s 7ms/step - loss: 1.6222 - accuracy: 0.4268\n",
            "Epoch 3/50\n",
            "1563/1563 [==============================] - 11s 7ms/step - loss: 1.5401 - accuracy: 0.4574\n",
            "Epoch 4/50\n",
            "1563/1563 [==============================] - 12s 8ms/step - loss: 1.4791 - accuracy: 0.4798\n",
            "Epoch 5/50\n",
            "1563/1563 [==============================] - 12s 7ms/step - loss: 1.4299 - accuracy: 0.4969\n",
            "Epoch 6/50\n",
            "1563/1563 [==============================] - 11s 7ms/step - loss: 1.3868 - accuracy: 0.5128\n",
            "Epoch 7/50\n",
            "1563/1563 [==============================] - 11s 7ms/step - loss: 1.3480 - accuracy: 0.5286\n",
            "Epoch 8/50\n",
            "1563/1563 [==============================] - 11s 7ms/step - loss: 1.3129 - accuracy: 0.5400\n",
            "Epoch 9/50\n",
            "1563/1563 [==============================] - 11s 7ms/step - loss: 1.2813 - accuracy: 0.5533\n",
            "Epoch 10/50\n",
            "1563/1563 [==============================] - 11s 7ms/step - loss: 1.2494 - accuracy: 0.5628\n",
            "Epoch 11/50\n",
            "1563/1563 [==============================] - 11s 7ms/step - loss: 1.2196 - accuracy: 0.5730\n",
            "Epoch 12/50\n",
            "1563/1563 [==============================] - 11s 7ms/step - loss: 1.1928 - accuracy: 0.5831\n",
            "Epoch 13/50\n",
            "1563/1563 [==============================] - 11s 7ms/step - loss: 1.1621 - accuracy: 0.5943\n",
            "Epoch 14/50\n",
            "1563/1563 [==============================] - 11s 7ms/step - loss: 1.1383 - accuracy: 0.6028\n",
            "Epoch 15/50\n",
            "1563/1563 [==============================] - 14s 9ms/step - loss: 1.1109 - accuracy: 0.6127\n",
            "Epoch 16/50\n",
            "1563/1563 [==============================] - 12s 8ms/step - loss: 1.0826 - accuracy: 0.6214\n",
            "Epoch 17/50\n",
            "1563/1563 [==============================] - 13s 8ms/step - loss: 1.0570 - accuracy: 0.6327\n",
            "Epoch 18/50\n",
            "1563/1563 [==============================] - 14s 9ms/step - loss: 1.0320 - accuracy: 0.6391\n",
            "Epoch 19/50\n",
            "1563/1563 [==============================] - 11s 7ms/step - loss: 1.0023 - accuracy: 0.6536\n",
            "Epoch 20/50\n",
            "1563/1563 [==============================] - 11s 7ms/step - loss: 0.9787 - accuracy: 0.6618\n",
            "Epoch 21/50\n",
            "1563/1563 [==============================] - 11s 7ms/step - loss: 0.9535 - accuracy: 0.6689\n",
            "Epoch 22/50\n",
            "1563/1563 [==============================] - 11s 7ms/step - loss: 0.9240 - accuracy: 0.6795\n",
            "Epoch 23/50\n",
            "1563/1563 [==============================] - 11s 7ms/step - loss: 0.9023 - accuracy: 0.6896\n",
            "Epoch 24/50\n",
            "1563/1563 [==============================] - 11s 7ms/step - loss: 0.8767 - accuracy: 0.6956\n",
            "Epoch 25/50\n",
            "1563/1563 [==============================] - 11s 7ms/step - loss: 0.8533 - accuracy: 0.7059\n",
            "Epoch 26/50\n",
            "1563/1563 [==============================] - 11s 7ms/step - loss: 0.8263 - accuracy: 0.7138\n",
            "Epoch 27/50\n",
            "1563/1563 [==============================] - 11s 7ms/step - loss: 0.7985 - accuracy: 0.7251\n",
            "Epoch 28/50\n",
            "1563/1563 [==============================] - 11s 7ms/step - loss: 0.7737 - accuracy: 0.7340\n",
            "Epoch 29/50\n",
            "1563/1563 [==============================] - 11s 7ms/step - loss: 0.7485 - accuracy: 0.7441\n",
            "Epoch 30/50\n",
            "1563/1563 [==============================] - 11s 7ms/step - loss: 0.7242 - accuracy: 0.7543\n",
            "Epoch 31/50\n",
            "1563/1563 [==============================] - 11s 7ms/step - loss: 0.6986 - accuracy: 0.7630\n",
            "Epoch 32/50\n",
            "1563/1563 [==============================] - 11s 7ms/step - loss: 0.6732 - accuracy: 0.7733\n",
            "Epoch 33/50\n",
            "1563/1563 [==============================] - 11s 7ms/step - loss: 0.6493 - accuracy: 0.7824\n",
            "Epoch 34/50\n",
            "1563/1563 [==============================] - 11s 7ms/step - loss: 0.6248 - accuracy: 0.7916\n",
            "Epoch 35/50\n",
            "1563/1563 [==============================] - 11s 7ms/step - loss: 0.6055 - accuracy: 0.7972\n",
            "Epoch 36/50\n",
            "1563/1563 [==============================] - 11s 7ms/step - loss: 0.5766 - accuracy: 0.8068\n",
            "Epoch 37/50\n",
            "1563/1563 [==============================] - 11s 7ms/step - loss: 0.5557 - accuracy: 0.8134\n",
            "Epoch 38/50\n",
            "1563/1563 [==============================] - 11s 7ms/step - loss: 0.5342 - accuracy: 0.8221\n",
            "Epoch 39/50\n",
            "1563/1563 [==============================] - 11s 7ms/step - loss: 0.5117 - accuracy: 0.8312\n",
            "Epoch 40/50\n",
            "1563/1563 [==============================] - 11s 7ms/step - loss: 0.4879 - accuracy: 0.8396\n",
            "Epoch 41/50\n",
            "1563/1563 [==============================] - 11s 7ms/step - loss: 0.4644 - accuracy: 0.8494\n",
            "Epoch 42/50\n",
            "1563/1563 [==============================] - 11s 7ms/step - loss: 0.4435 - accuracy: 0.8565\n",
            "Epoch 43/50\n",
            "1563/1563 [==============================] - 11s 7ms/step - loss: 0.4266 - accuracy: 0.8626\n",
            "Epoch 44/50\n",
            "1563/1563 [==============================] - 11s 7ms/step - loss: 0.3998 - accuracy: 0.8760\n",
            "Epoch 45/50\n",
            "1563/1563 [==============================] - 11s 7ms/step - loss: 0.3814 - accuracy: 0.8798\n",
            "Epoch 46/50\n",
            "1563/1563 [==============================] - 11s 7ms/step - loss: 0.3660 - accuracy: 0.8851\n",
            "Epoch 47/50\n",
            "1563/1563 [==============================] - 11s 7ms/step - loss: 0.3413 - accuracy: 0.8948\n",
            "Epoch 48/50\n",
            "1563/1563 [==============================] - 11s 7ms/step - loss: 0.3292 - accuracy: 0.8980\n",
            "Epoch 49/50\n",
            "1563/1563 [==============================] - 11s 7ms/step - loss: 0.3075 - accuracy: 0.9070\n",
            "Epoch 50/50\n",
            "1563/1563 [==============================] - 11s 7ms/step - loss: 0.2907 - accuracy: 0.9133\n"
          ]
        },
        {
          "output_type": "execute_result",
          "data": {
            "text/plain": [
              "<keras.callbacks.History at 0x7eff503d4350>"
            ]
          },
          "metadata": {},
          "execution_count": 18
        }
      ]
    },
    {
      "cell_type": "code",
      "source": [
        "ann.evaluate(X_test, y_test_categorical)"
      ],
      "metadata": {
        "colab": {
          "base_uri": "https://localhost:8080/"
        },
        "id": "MitmLoNe7W_6",
        "outputId": "ea901d29-e49d-48f6-e926-fe8143af2c6f"
      },
      "execution_count": 19,
      "outputs": [
        {
          "output_type": "stream",
          "name": "stdout",
          "text": [
            "313/313 [==============================] - 2s 6ms/step - loss: 1.6023 - accuracy: 0.5558\n"
          ]
        },
        {
          "output_type": "execute_result",
          "data": {
            "text/plain": [
              "[1.6022902727127075, 0.5558000206947327]"
            ]
          },
          "metadata": {},
          "execution_count": 19
        }
      ]
    },
    {
      "cell_type": "code",
      "source": [
        "classes[np.argmax(ann.predict(X_test)[1])]"
      ],
      "metadata": {
        "colab": {
          "base_uri": "https://localhost:8080/",
          "height": 35
        },
        "id": "8oNM5AWspu0e",
        "outputId": "41402820-97c3-46b9-e80e-9f3c658b6c97"
      },
      "execution_count": 22,
      "outputs": [
        {
          "output_type": "execute_result",
          "data": {
            "application/vnd.google.colaboratory.intrinsic+json": {
              "type": "string"
            },
            "text/plain": [
              "'ship'"
            ]
          },
          "metadata": {},
          "execution_count": 22
        }
      ]
    },
    {
      "cell_type": "code",
      "source": [
        "classes[y_test[1]]"
      ],
      "metadata": {
        "colab": {
          "base_uri": "https://localhost:8080/",
          "height": 35
        },
        "id": "ICbt1lFLp3UO",
        "outputId": "fce43451-7371-4867-e62f-68e6a3ca384a"
      },
      "execution_count": 24,
      "outputs": [
        {
          "output_type": "execute_result",
          "data": {
            "application/vnd.google.colaboratory.intrinsic+json": {
              "type": "string"
            },
            "text/plain": [
              "'ship'"
            ]
          },
          "metadata": {},
          "execution_count": 24
        }
      ]
    },
    {
      "cell_type": "code",
      "source": [
        "from sklearn.metrics import confusion_matrix, classification_report\n",
        "y_pred = ann.predict(X_test)\n",
        "y_pred_classes = [np.argmax(element) for element in y_pred]\n",
        "print(\"Classification Report: \\n\", classification_report(y_test, y_pred_classes))"
      ],
      "metadata": {
        "colab": {
          "base_uri": "https://localhost:8080/"
        },
        "id": "w9nfsX9s8elP",
        "outputId": "57920aba-60c8-4913-e208-7912005a37ac"
      },
      "execution_count": 20,
      "outputs": [
        {
          "output_type": "stream",
          "name": "stdout",
          "text": [
            "Classification Report: \n",
            "               precision    recall  f1-score   support\n",
            "\n",
            "           0       0.68      0.63      0.66      1000\n",
            "           1       0.64      0.69      0.66      1000\n",
            "           2       0.47      0.48      0.48      1000\n",
            "           3       0.31      0.61      0.41      1000\n",
            "           4       0.59      0.43      0.50      1000\n",
            "           5       0.51      0.34      0.40      1000\n",
            "           6       0.67      0.56      0.61      1000\n",
            "           7       0.73      0.52      0.60      1000\n",
            "           8       0.65      0.72      0.68      1000\n",
            "           9       0.59      0.58      0.59      1000\n",
            "\n",
            "    accuracy                           0.56     10000\n",
            "   macro avg       0.58      0.56      0.56     10000\n",
            "weighted avg       0.58      0.56      0.56     10000\n",
            "\n"
          ]
        }
      ]
    }
  ]
}