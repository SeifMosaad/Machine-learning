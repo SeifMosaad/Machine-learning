{
  "nbformat": 4,
  "nbformat_minor": 5,
  "metadata": {
    "kernelspec": {
      "display_name": "Python 3",
      "language": "python",
      "name": "python3"
    },
    "language_info": {
      "codemirror_mode": {
        "name": "ipython",
        "version": 3
      },
      "file_extension": ".py",
      "mimetype": "text/x-python",
      "name": "python",
      "nbconvert_exporter": "python",
      "pygments_lexer": "ipython3",
      "version": "3.9.2"
    },
    "colab": {
      "name": "img_knn-V1.ipynb",
      "provenance": [],
      "collapsed_sections": []
    }
  },
  "cells": [
    {
      "cell_type": "code",
      "metadata": {
        "id": "ignored-detail"
      },
      "source": [
        "import numpy as np\n",
        "import pandas as pd \n",
        "import matplotlib.pyplot as plt"
      ],
      "id": "ignored-detail",
      "execution_count": null,
      "outputs": []
    },
    {
      "cell_type": "code",
      "metadata": {
        "id": "fifth-variance"
      },
      "source": [
        "mnist_train = pd.read_csv(\"...\\mnist_train.csv\")\n",
        "mnist_test = pd.read_csv(\"...\\mnist_test.csv\")\n",
        "\n",
        "mTL = mnist_train['label']\n",
        "mTD = mnist_train.drop('label', axis = 1)\n",
        "\n",
        "mEL = mnist_test['label']\n",
        "mED = mnist_test.drop('label', axis = 1)"
      ],
      "id": "fifth-variance",
      "execution_count": null,
      "outputs": []
    },
    {
      "cell_type": "code",
      "metadata": {
        "id": "atmospheric-mailman",
        "outputId": "ad34b1ec-aaea-4c2e-f47d-a5378cbc74a7"
      },
      "source": [
        "print(mTD.shape)"
      ],
      "id": "atmospheric-mailman",
      "execution_count": null,
      "outputs": [
        {
          "output_type": "stream",
          "text": [
            "(60000, 784)\n"
          ],
          "name": "stdout"
        }
      ]
    },
    {
      "cell_type": "code",
      "metadata": {
        "id": "attached-tumor",
        "outputId": "d15c691d-1745-4eae-d133-17cb504bbd9e"
      },
      "source": [
        "print(mTD.head(5))"
      ],
      "id": "attached-tumor",
      "execution_count": null,
      "outputs": [
        {
          "output_type": "stream",
          "text": [
            "   1x1  1x2  1x3  1x4  1x5  1x6  1x7  1x8  1x9  1x10  ...  28x19  28x20  \\\n",
            "0    0    0    0    0    0    0    0    0    0     0  ...      0      0   \n",
            "1    0    0    0    0    0    0    0    0    0     0  ...      0      0   \n",
            "2    0    0    0    0    0    0    0    0    0     0  ...      0      0   \n",
            "3    0    0    0    0    0    0    0    0    0     0  ...      0      0   \n",
            "4    0    0    0    0    0    0    0    0    0     0  ...      0      0   \n",
            "\n",
            "   28x21  28x22  28x23  28x24  28x25  28x26  28x27  28x28  \n",
            "0      0      0      0      0      0      0      0      0  \n",
            "1      0      0      0      0      0      0      0      0  \n",
            "2      0      0      0      0      0      0      0      0  \n",
            "3      0      0      0      0      0      0      0      0  \n",
            "4      0      0      0      0      0      0      0      0  \n",
            "\n",
            "[5 rows x 784 columns]\n"
          ],
          "name": "stdout"
        }
      ]
    },
    {
      "cell_type": "code",
      "metadata": {
        "id": "matched-colonial"
      },
      "source": [
        "def img_format(img):\n",
        "    c = 0\n",
        "    imgFor = [[0 for x in range(28)] for y in range(28)] \n",
        "            \n",
        "    for i in range(28):\n",
        "        for j in range(28):\n",
        "            imgFor[i][j] = img[c]\n",
        "            c += 1\n",
        "            \n",
        "    return np.array(imgFor)"
      ],
      "id": "matched-colonial",
      "execution_count": null,
      "outputs": []
    },
    {
      "cell_type": "code",
      "metadata": {
        "id": "enhanced-processing",
        "outputId": "e69291cf-f5a7-4d25-c9cd-e2d96812d03d"
      },
      "source": [
        "test_img = mTD.iloc[0]\n",
        "label = mTL.iloc[0]\n",
        "img = np.array(img_format(test_img))\n",
        "print(img.shape)\n",
        "plt.figure(figsize=(20,4))\n",
        "plt.imshow(img, cmap = plt.cm.gray)"
      ],
      "id": "enhanced-processing",
      "execution_count": null,
      "outputs": [
        {
          "output_type": "stream",
          "text": [
            "(28, 28)\n"
          ],
          "name": "stdout"
        },
        {
          "output_type": "execute_result",
          "data": {
            "text/plain": [
              "<matplotlib.image.AxesImage at 0x1da54007f70>"
            ]
          },
          "metadata": {
            "tags": []
          },
          "execution_count": 6
        },
        {
          "output_type": "display_data",
          "data": {
            "image/png": "[encoded data removed]",
            "text/plain": [
              "<Figure size 1440x288 with 1 Axes>"
            ]
          },
          "metadata": {
            "tags": [],
            "needs_background": "light"
          }
        }
      ]
    },
    {
      "cell_type": "code",
      "metadata": {
        "id": "olive-australia"
      },
      "source": [
        "def img_split(img, windowRow, windowCol):\n",
        "    \n",
        "    imgWin = []\n",
        "    \n",
        "    maxRLen = img.shape[0]\n",
        "    maxCLen = img.shape[1]\n",
        "    \n",
        "    loopRLen = maxRLen - windowRow\n",
        "    loopCLen = maxCLen - windowCol\n",
        "    \n",
        "    for r in range(0, loopRLen, windowRow):\n",
        "        for c in range(0, loopCLen, windowCol):\n",
        "            win = img[r:windowRow + r, c:windowCol + c]\n",
        "            imgWin.append(win)\n",
        "    \n",
        "    return np.array(imgWin)"
      ],
      "id": "olive-australia",
      "execution_count": null,
      "outputs": []
    },
    {
      "cell_type": "code",
      "metadata": {
        "id": "charged-victory",
        "outputId": "5c7d329d-0d7e-490b-8189-684ec8ed3528"
      },
      "source": [
        "splited_img = img_split(img, 8, 8)\n",
        "print(splited_img.shape)"
      ],
      "id": "charged-victory",
      "execution_count": null,
      "outputs": [
        {
          "output_type": "stream",
          "text": [
            "(9, 8, 8)\n"
          ],
          "name": "stdout"
        }
      ]
    },
    {
      "cell_type": "code",
      "metadata": {
        "id": "genuine-absolute",
        "outputId": "e7224452-ead8-4d89-9217-cd6b38274193"
      },
      "source": [
        "for w in splited_img:\n",
        "    plt.figure(figsize = (20,4))\n",
        "    plt.imshow(w, cmap = plt.cm.gray)"
      ],
      "id": "genuine-absolute",
      "execution_count": null,
      "outputs": [
        {
          "output_type": "display_data",
          "data": {
            "image/png": "[encoded data removed]",
            "text/plain": [
              "<Figure size 1440x288 with 1 Axes>"
            ]
          },
          "metadata": {
            "tags": [],
            "needs_background": "light"
          }
        },
        {
          "output_type": "display_data",
          "data": {
            "image/png": "[encoded data removed]",
            "text/plain": [
              "<Figure size 1440x288 with 1 Axes>"
            ]
          },
          "metadata": {
            "tags": [],
            "needs_background": "light"
          }
        },
        {
          "output_type": "display_data",
          "data": {
            "image/png": "[encoded data removed]",
            "text/plain": [
              "<Figure size 1440x288 with 1 Axes>"
            ]
          },
          "metadata": {
            "tags": [],
            "needs_background": "light"
          }
        },
        {
          "output_type": "display_data",
          "data": {
            "image/png": "[encoded data removed]",
            "text/plain": [
              "<Figure size 1440x288 with 1 Axes>"
            ]
          },
          "metadata": {
            "tags": [],
            "needs_background": "light"
          }
        },
        {
          "output_type": "display_data",
          "data": {
            "image/png": "[encoded data removed]",
            "text/plain": [
              "<Figure size 1440x288 with 1 Axes>"
            ]
          },
          "metadata": {
            "tags": [],
            "needs_background": "light"
          }
        },
        {
          "output_type": "display_data",
          "data": {
            "image/png": "[encoded data removed]",
            "text/plain": [
              "<Figure size 1440x288 with 1 Axes>"
            ]
          },
          "metadata": {
            "tags": [],
            "needs_background": "light"
          }
        },
        {
          "output_type": "display_data",
          "data": {
            "image/png": "[encoded data removed]",
            "text/plain": [
              "<Figure size 1440x288 with 1 Axes>"
            ]
          },
          "metadata": {
            "tags": [],
            "needs_background": "light"
          }
        },
        {
          "output_type": "display_data",
          "data": {
            "image/png": "[encoded data removed]",
            "text/plain": [
              "<Figure size 1440x288 with 1 Axes>"
            ]
          },
          "metadata": {
            "tags": [],
            "needs_background": "light"
          }
        },
        {
          "output_type": "display_data",
          "data": {
            "image/png": "[encoded data removed]",
            "text/plain": [
              "<Figure size 1440x288 with 1 Axes>"
            ]
          },
          "metadata": {
            "tags": [],
            "needs_background": "light"
          }
        }
      ]
    },
    {
      "cell_type": "code",
      "metadata": {
        "id": "eastern-associate",
        "outputId": "82be3723-6959-4257-f523-f5048d1d1303"
      },
      "source": [
        "print(splited_img[0])"
      ],
      "id": "eastern-associate",
      "execution_count": null,
      "outputs": [
        {
          "output_type": "stream",
          "text": [
            "[[ 0  0  0  0  0  0  0  0]\n",
            " [ 0  0  0  0  0  0  0  0]\n",
            " [ 0  0  0  0  0  0  0  0]\n",
            " [ 0  0  0  0  0  0  0  0]\n",
            " [ 0  0  0  0  0  0  0  0]\n",
            " [ 0  0  0  0  0  0  0  0]\n",
            " [ 0  0  0  0  0  0  0  0]\n",
            " [ 0  0  0  0  0  0  0 49]]\n"
          ],
          "name": "stdout"
        }
      ]
    },
    {
      "cell_type": "code",
      "metadata": {
        "id": "pointed-halifax"
      },
      "source": [
        "def get_central(list):\n",
        "    fea_vec = []\n",
        "    for w in list:\n",
        "        sum = 0\n",
        "        x = 0\n",
        "        y = 0\n",
        "        wR = w.shape[0]\n",
        "        wC = w.shape[1]\n",
        "        for i in range(wR):\n",
        "            for j in range(wC):\n",
        "                sum += w[i][j]\n",
        "        for i in range(wR):\n",
        "            for j in range(wC):\n",
        "                x += i * w[i][j]\n",
        "                y += j * w[i][j]\n",
        "        if(sum == 0):\n",
        "            fea_vec.append(0)\n",
        "            fea_vec.append(0)\n",
        "        else:\n",
        "            xC = x / sum\n",
        "            yC = y / sum\n",
        "            fea_vec.append(xC)\n",
        "            fea_vec.append(yC)\n",
        "    return np.array(fea_vec)\n",
        "        "
      ],
      "id": "pointed-halifax",
      "execution_count": null,
      "outputs": []
    },
    {
      "cell_type": "code",
      "metadata": {
        "id": "committed-poverty"
      },
      "source": [
        "fea = get_central(splited_img)"
      ],
      "id": "committed-poverty",
      "execution_count": null,
      "outputs": []
    },
    {
      "cell_type": "code",
      "metadata": {
        "id": "casual-psychology",
        "outputId": "7950a0e7-a60a-456a-f90f-d96166dae3c3"
      },
      "source": [
        "print(fea.shape)\n",
        "print(fea)"
      ],
      "id": "casual-psychology",
      "execution_count": null,
      "outputs": [
        {
          "output_type": "stream",
          "text": [
            "(18,)\n",
            "[7.         7.         6.58990632 4.03142943 5.89339698 3.03845134\n",
            " 0.         7.         2.37788861 4.20631754 4.21824973 0.6398079\n",
            " 6.78882682 6.15865922 5.12107915 3.85584268 1.96692175 1.51147865]\n"
          ],
          "name": "stdout"
        }
      ]
    },
    {
      "cell_type": "code",
      "metadata": {
        "id": "active-broadcast"
      },
      "source": [
        "def get_Feature(data):\n",
        "    dataLen = data.shape[0]\n",
        "    imgF = []\n",
        "    splited = []\n",
        "    feature_vec = []\n",
        "    for i in range(dataLen):\n",
        "        img = data.iloc[i]\n",
        "        fImg = img_format(img)\n",
        "        imgF.append(fImg)\n",
        "    for i in imgF:\n",
        "        splited.append(img_split(i, 8, 8))\n",
        "    for i in splited:\n",
        "        feature_vec.append(get_central(i))\n",
        "    return np.array(feature_vec)"
      ],
      "id": "active-broadcast",
      "execution_count": null,
      "outputs": []
    },
    {
      "cell_type": "code",
      "metadata": {
        "id": "applied-tackle"
      },
      "source": [
        "fea_train = get_Feature(mTD.iloc[:30000])\n",
        "fea_test = get_Feature(mED)"
      ],
      "id": "applied-tackle",
      "execution_count": null,
      "outputs": []
    },
    {
      "cell_type": "code",
      "metadata": {
        "id": "approved-birthday",
        "outputId": "cde12019-5ed0-4ac0-ba9a-98409f9556bb"
      },
      "source": [
        "print(fea_train[0])"
      ],
      "id": "approved-birthday",
      "execution_count": null,
      "outputs": [
        {
          "output_type": "stream",
          "text": [
            "[7.         7.         6.58990632 4.03142943 5.89339698 3.03845134\n",
            " 0.         7.         2.37788861 4.20631754 4.21824973 0.6398079\n",
            " 6.78882682 6.15865922 5.12107915 3.85584268 1.96692175 1.51147865]\n"
          ],
          "name": "stdout"
        }
      ]
    },
    {
      "cell_type": "code",
      "metadata": {
        "id": "curious-helping",
        "outputId": "04041ba1-3bd3-48cf-db38-78e4591d1e6f"
      },
      "source": [
        "print(fea_train.shape)\n",
        "print(fea_test.shape)"
      ],
      "id": "curious-helping",
      "execution_count": null,
      "outputs": [
        {
          "output_type": "stream",
          "text": [
            "(30000, 18)\n",
            "(10000, 18)\n"
          ],
          "name": "stdout"
        }
      ]
    },
    {
      "cell_type": "code",
      "metadata": {
        "id": "effective-cisco",
        "outputId": "491831e6-0d25-4408-9834-d8eccd8b8793"
      },
      "source": [
        "from sklearn.neighbors import KNeighborsClassifier\n",
        "from sklearn.model_selection import GridSearchCV\n",
        "knn_cls = KNeighborsClassifier()\n",
        "parameters = {'n_neighbors':[5,7,9,11,15], 'p':[1, 2]}# p=1 for hamming distance and p=2 for Euclidean distance\n",
        "grd_search = GridSearchCV(knn_cls, parameters, cv=5, scoring='accuracy', n_jobs=6)\n",
        "grd_search.fit(fea_train, mTL.iloc[:30000])\n",
        "print(f\"The best params found are {grd_search.best_params_}\")\n",
        "print(f\"The best achieved validation accuracy is {grd_search.best_score_}\")\n",
        "test_acc = grd_search.score(fea_test, mEL)\n",
        "print(f\"The test accuracy is {test_acc}\")"
      ],
      "id": "effective-cisco",
      "execution_count": null,
      "outputs": [
        {
          "output_type": "stream",
          "text": [
            "The best params found are {'n_neighbors': 5, 'p': 1}\n",
            "The best achieved validation accuracy is 0.9118666666666666\n",
            "The test accuracy is 0.9183\n"
          ],
          "name": "stdout"
        }
      ]
    },
    {
      "cell_type": "code",
      "metadata": {
        "id": "equal-frederick"
      },
      "source": [
        ""
      ],
      "id": "equal-frederick",
      "execution_count": null,
      "outputs": []
    }
  ]
}