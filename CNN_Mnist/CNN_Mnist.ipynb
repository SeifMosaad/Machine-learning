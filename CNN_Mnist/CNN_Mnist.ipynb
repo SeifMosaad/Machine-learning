{
 "cells": [
  {
   "cell_type": "code",
   "execution_count": 1,
   "metadata": {},
   "outputs": [],
   "source": [
    "import tensorflow as tf\n",
    "import numpy as np\n",
    "(x_train, y_train), (x_test, y_test) = tf.keras.datasets.mnist.load_data()\n",
    "X = np.append(x_train, x_test, axis=0)\n",
    "y = np.append(y_train, y_test, axis=0)"
   ]
  },
  {
   "cell_type": "markdown",
   "metadata": {},
   "source": [
    "Here we appended all the date to be able to shuffle it and split it after that"
   ]
  },
  {
   "cell_type": "markdown",
   "metadata": {},
   "source": [
    "we seperated the data and the labels"
   ]
  },
  {
   "cell_type": "code",
   "execution_count": 2,
   "metadata": {},
   "outputs": [],
   "source": [
    "from sklearn.model_selection import train_test_split\n",
    "x_train, x_test, y_train, y_test = train_test_split(X, y, test_size=0.1, random_state=42,shuffle=True)"
   ]
  },
  {
   "cell_type": "code",
   "execution_count": 3,
   "metadata": {},
   "outputs": [
    {
     "data": {
      "text/plain": [
       "(63000, 28, 28)"
      ]
     },
     "execution_count": 3,
     "metadata": {},
     "output_type": "execute_result"
    }
   ],
   "source": [
    "x_train.shape"
   ]
  },
  {
   "cell_type": "code",
   "execution_count": 4,
   "metadata": {
    "id": "PGViYNM8iZPX",
    "outputId": "fdb9b708-93ad-4878-dbf6-38b9a414487b"
   },
   "outputs": [
    {
     "name": "stdout",
     "output_type": "stream",
     "text": [
      "0\n"
     ]
    },
    {
     "data": {
      "text/plain": [
       "<matplotlib.image.AxesImage at 0x2ba414a37f0>"
      ]
     },
     "execution_count": 4,
     "metadata": {},
     "output_type": "execute_result"
    },
    {
     "data": {
      "image/png": "[encoded data removed]",
      "text/plain": [
       "<Figure size 432x288 with 1 Axes>"
      ]
     },
     "metadata": {
      "needs_background": "light"
     },
     "output_type": "display_data"
    }
   ],
   "source": [
    "import matplotlib.pyplot as plt\n",
    "image_index = 7777 \n",
    "print(y_train[image_index]) \n",
    "plt.imshow(x_train[image_index].reshape(28,28), cmap='Greys')"
   ]
  },
  {
   "cell_type": "markdown",
   "metadata": {
    "id": "vFS5B2inIBDt"
   },
   "source": [
    "\n",
    "**Reshaping and Normalizing the Images**\n",
    "\n",
    "We all know that to use Keras API, we will need to have 4-dimension numpy arrays. But we see from the above code result we have 3-dimension numpy array. So, if you take a look at the code below, the first three lines explain how we can convert 3-dims to 4-dims. The next two lines are basically to have floating values after the division. Now coming to the normalzing part, we will always we to do this in our neural networks. This can be done by the last two lines of the code(before print statements) and all we need to do is we need to divide it by 255 (which is the maximum RGB code minus the minimum RGB code).\n"
   ]
  },
  {
   "cell_type": "code",
   "execution_count": 5,
   "metadata": {
    "id": "JhwpdE-8IH7I",
    "outputId": "1a384cba-3a1a-4809-a117-d7d87917067d"
   },
   "outputs": [
    {
     "name": "stdout",
     "output_type": "stream",
     "text": [
      "x_train shape: (63000, 28, 28, 1)\n",
      "Number of images in x_train 63000\n",
      "Number of images in x_test 7000\n"
     ]
    }
   ],
   "source": [
    "x_train = x_train.reshape(x_train.shape[0], 28, 28, 1)\n",
    "x_test = x_test.reshape(x_test.shape[0], 28, 28, 1)\n",
    "input_shape = (28, 28, 1)\n",
    "\n",
    "x_train = x_train.astype('float32')\n",
    "x_test = x_test.astype('float32')\n",
    "\n",
    "x_train /= 255\n",
    "x_test /= 255\n",
    "print('x_train shape:', x_train.shape)\n",
    "print('Number of images in x_train', x_train.shape[0])\n",
    "print('Number of images in x_test', x_test.shape[0])"
   ]
  },
  {
   "cell_type": "markdown",
   "metadata": {
    "id": "QFmUwBx_I7FE"
   },
   "source": [
    "\n",
    "**Building the Convolutional Neural Network**\n",
    "\n",
    "So we are creating our model by used Keras API and hence it will either have Tensorflow or Theano in backend. Therefore, I will import the Sequential Model from Keras and add Conv2D, MaxPooling, Flatten, Dropout, and Dense layers. To understand better, Dropout layers fight with the overfitting by disregarding some of the neurons while training while Flatten layers flatten 2D arrays to 1D array before building the fully connected layers. Please follow the below code on how to do it: ***You can play around with kernel size, pool size, activation functions, dropout rate, and number of neurons in the first Dense layer to get a better result.***\n"
   ]
  },
  {
   "cell_type": "markdown",
   "metadata": {},
   "source": [
    "**Convolutional Layers**\n",
    "\n",
    "The convolutional layer is the very first layer where we extract features from the images in our datasets. Due to the fact that pixels are only related to the adjacent and close pixels, convolution allows us to preserve the relationship between different parts of an image. Convolution is basically filtering the image with a smaller pixel filter to decrease the size of the image without losing the relationship between pixels. When we apply convolution to 5x5 image by using a 3x3 filter with 1x1 stride (1-pixel shift at each step). We will end up having a 3x3 output (64% decrease in complexity).\n",
    "\n",
    "**Pooling Layer**\n",
    "\n",
    "When constructing CNNs, it is common to insert pooling layers after each convolution layer to reduce the spatial size of the representation to reduce the parameter counts which reduces the computational complexity. In addition, pooling layers also helps with the overfitting problem. Basically we select a pooling size to reduce the amount of the parameters by selecting the maximum, average, or sum values inside these pixels."
   ]
  },
  {
   "cell_type": "code",
   "execution_count": 6,
   "metadata": {
    "id": "Q1G9fTL_iiyJ"
   },
   "outputs": [],
   "source": [
    "from tensorflow.keras.models import Sequential\n",
    "from tensorflow.keras.layers import Dense, Conv2D, Dropout, Flatten, MaxPooling2D\n",
    "\n",
    "model = Sequential()\n",
    "\n",
    "model.add(Conv2D(28, kernel_size=(2,2), input_shape=input_shape))\n",
    "model.add(MaxPooling2D(pool_size=(2, 2),strides=(2, 2)))\n",
    "\n",
    "model.add(Conv2D(84, kernel_size=(2,2), input_shape=input_shape))\n",
    "model.add(MaxPooling2D(pool_size=(2, 2),strides=(2, 2)))\n",
    "model.add(Dropout(0.1))\n",
    "#model.add(Conv2D(112, kernel_size=(2,2), input_shape=input_shape))\n",
    "#model.add(MaxPooling2D(pool_size=(2, 2),strides=(2, 2)))\n",
    "#Third was 4 * 28\n",
    "\n",
    "model.add(Flatten())\n",
    "#sigmoid\n",
    "#gelu\n",
    "#swish\n",
    "\n",
    "activation = tf.nn.swish\n",
    "#2 FC 128 Unit model #17\n",
    "#3 FC 64 128 256 model #18\n",
    "#model.add(Dense(64, activation=activation))\n",
    "model.add(Dense(128, activation=activation))\n",
    "#model.add(Dense(256, activation=activation))\n",
    "\n",
    "\n",
    "# 10 is the no of classes\n",
    "model.add(Dense(10,activation=tf.nn.softmax))"
   ]
  },
  {
   "cell_type": "markdown",
   "metadata": {
    "id": "0tESUNWpJUCi"
   },
   "source": [
    "\n",
    "**Compiling and Fitting the Model**\n",
    "\n",
    "We created an non-optimized empty CNN using the above code.Now we have to set an optimizer with a given loss function which uses a metric. Then, we can fit the model by using our train data. You can play around with the optimizer, loss function, metrics, and epochs.I can say that adam optimizer is usually out-performs the other optimizers, that's why I used that. You might think that Epoch number is a bit less, but in our cases it gives us a pretty amazing accuracy. Since the dataset we have does not require heavy computing power, you can play around with epoch numbers as well. Please follow the below code to have a better understanding.\n"
   ]
  },
  {
   "cell_type": "code",
   "execution_count": 7,
   "metadata": {},
   "outputs": [
    {
     "name": "stdout",
     "output_type": "stream",
     "text": [
      "Epoch 1/10\n",
      "1969/1969 [==============================] - 31s 12ms/step - loss: 0.2786 - accuracy: 0.9182\n",
      "Epoch 2/10\n",
      "1969/1969 [==============================] - 23s 12ms/step - loss: 0.0449 - accuracy: 0.9864\n",
      "Epoch 3/10\n",
      "1969/1969 [==============================] - 24s 12ms/step - loss: 0.0263 - accuracy: 0.9917\n",
      "Epoch 4/10\n",
      "1969/1969 [==============================] - 25s 12ms/step - loss: 0.0167 - accuracy: 0.9946\n",
      "Epoch 5/10\n",
      "1969/1969 [==============================] - 26s 13ms/step - loss: 0.0138 - accuracy: 0.9953\n",
      "Epoch 6/10\n",
      "1969/1969 [==============================] - 26s 13ms/step - loss: 0.0109 - accuracy: 0.99621s - loss: 0.0108 - accuracy: 0.99 - ETA: 1s - loss: 0.0 - ETA: 1s - loss: 0.0109 - accuracy:  - ETA: 0s\n",
      "Epoch 7/10\n",
      "1969/1969 [==============================] - 25s 13ms/step - loss: 0.0111 - accuracy: 0.9963\n",
      "Epoch 8/10\n",
      "1969/1969 [==============================] - 24s 12ms/step - loss: 0.0081 - accuracy: 0.9972\n",
      "Epoch 9/10\n",
      "1969/1969 [==============================] - 26s 13ms/step - loss: 0.0083 - accuracy: 0.9971\n",
      "Epoch 10/10\n",
      "1969/1969 [==============================] - 36s 18ms/step - loss: 0.0082 - accuracy: 0.9972\n"
     ]
    },
    {
     "data": {
      "text/plain": [
       "<tensorflow.python.keras.callbacks.History at 0x2ba483f42b0>"
      ]
     },
     "execution_count": 7,
     "metadata": {},
     "output_type": "execute_result"
    }
   ],
   "source": [
    "import keras\n",
    "\n",
    "#Adagrad is an optimizer with parameter-specific learning rates, which are adapted relative to how frequently a parameter gets updated during training. The more updates a parameter receives, the smaller the updates.\n",
    "#Adam optimization is a stochastic gradient descent method that is based on adaptive estimation of first-order and second-order moments.\n",
    "#Adamax is sometimes superior to adam, specially in models with embeddings.\n",
    "#Gradient descent (with momentum) optimizer.\n",
    "\n",
    "#optimizer = keras.optimizers.Adagrad(learning_rate=0.001)\n",
    "optimizer = keras.optimizers.Adam(learning_rate=0.001)\n",
    "#optimizer = keras.optimizers.Adamax(learning_rate=0.001)\n",
    "#optimizer = keras.optimizers.SGD(learning_rate=0.01)\n",
    "model.compile(optimizer=optimizer, \n",
    "              loss='sparse_categorical_crossentropy', \n",
    "              metrics=['accuracy'])\n",
    "model.fit(x=x_train,y=y_train, epochs=10, batch_size=32)\n"
   ]
  },
  {
   "cell_type": "markdown",
   "metadata": {
    "id": "vNfTf8uZMSil"
   },
   "source": [
    "\n",
    "**Evaluating the Model**\n",
    "\n",
    "Now we can go forward and evaluate the model by the below code. You will see that it has an accuracy of 98.5% and loss is very low. That means that using 10 epoch was a good fit for this use case. As this is a very basic model and our first model, we can consider that the model and the result is very good.\n"
   ]
  },
  {
   "cell_type": "code",
   "execution_count": 8,
   "metadata": {
    "id": "aQ5fZekdK94e"
   },
   "outputs": [
    {
     "name": "stdout",
     "output_type": "stream",
     "text": [
      "219/219 [==============================] - 2s 7ms/step - loss: 0.0586 - accuracy: 0.9874\n"
     ]
    },
    {
     "data": {
      "text/plain": [
       "[0.058648522943258286, 0.9874285459518433]"
      ]
     },
     "execution_count": 8,
     "metadata": {},
     "output_type": "execute_result"
    }
   ],
   "source": [
    "model.evaluate(x_test, y_test)"
   ]
  },
  {
   "cell_type": "markdown",
   "metadata": {
    "id": "ThDrerMyMdeN"
   },
   "source": [
    "\n",
    "\n",
    "Now you can check if you model is trained well. Change the image_index and run the code to see if the number predicted is accurate or not.\n"
   ]
  },
  {
   "cell_type": "code",
   "execution_count": 9,
   "metadata": {},
   "outputs": [
    {
     "name": "stdout",
     "output_type": "stream",
     "text": [
      "Model: \"sequential\"\n",
      "_________________________________________________________________\n",
      "Layer (type)                 Output Shape              Param #   \n",
      "=================================================================\n",
      "conv2d (Conv2D)              (None, 27, 27, 28)        140       \n",
      "_________________________________________________________________\n",
      "max_pooling2d (MaxPooling2D) (None, 13, 13, 28)        0         \n",
      "_________________________________________________________________\n",
      "conv2d_1 (Conv2D)            (None, 12, 12, 84)        9492      \n",
      "_________________________________________________________________\n",
      "max_pooling2d_1 (MaxPooling2 (None, 6, 6, 84)          0         \n",
      "_________________________________________________________________\n",
      "dropout (Dropout)            (None, 6, 6, 84)          0         \n",
      "_________________________________________________________________\n",
      "flatten (Flatten)            (None, 3024)              0         \n",
      "_________________________________________________________________\n",
      "dense (Dense)                (None, 128)               387200    \n",
      "_________________________________________________________________\n",
      "dense_1 (Dense)              (None, 10)                1290      \n",
      "=================================================================\n",
      "Total params: 398,122\n",
      "Trainable params: 398,122\n",
      "Non-trainable params: 0\n",
      "_________________________________________________________________\n"
     ]
    }
   ],
   "source": [
    "#((Filter_size * 1) + 1) * filter_number\n",
    "model.summary()"
   ]
  },
  {
   "cell_type": "code",
   "execution_count": 10,
   "metadata": {
    "id": "GaFqiI3BMbPw"
   },
   "outputs": [
    {
     "name": "stdout",
     "output_type": "stream",
     "text": [
      "8\n"
     ]
    },
    {
     "data": {
      "image/png": "[encoded data removed]",
      "text/plain": [
       "<Figure size 432x288 with 1 Axes>"
      ]
     },
     "metadata": {
      "needs_background": "light"
     },
     "output_type": "display_data"
    }
   ],
   "source": [
    "image_index = 2843\n",
    "plt.imshow(x_test[image_index].reshape(28, 28),cmap='Greys')\n",
    "predict = x_test[image_index].reshape(28,28)\n",
    "pred = model.predict(x_test[image_index].reshape(1, 28, 28, 1))\n",
    "print(pred.argmax())"
   ]
  },
  {
   "cell_type": "code",
   "execution_count": null,
   "metadata": {},
   "outputs": [],
   "source": []
  }
 ],
 "metadata": {
  "kernelspec": {
   "display_name": "tf2.4",
   "language": "python",
   "name": "tf2.4"
  },
  "language_info": {
   "codemirror_mode": {
    "name": "ipython",
    "version": 3
   },
   "file_extension": ".py",
   "mimetype": "text/x-python",
   "name": "python",
   "nbconvert_exporter": "python",
   "pygments_lexer": "ipython3",
   "version": "3.8.0"
  }
 },
 "nbformat": 4,
 "nbformat_minor": 4
}
