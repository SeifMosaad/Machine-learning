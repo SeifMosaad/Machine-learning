{
 "cells": [
  {
   "cell_type": "code",
   "execution_count": 1,
   "id": "d9301866",
   "metadata": {},
   "outputs": [],
   "source": [
    "#!git clone https://github.com/aub-mind/arabert"
   ]
  },
  {
   "cell_type": "code",
   "execution_count": 2,
   "id": "5a76f9c6",
   "metadata": {},
   "outputs": [],
   "source": [
    "#!pip install PyArabic"
   ]
  },
  {
   "cell_type": "code",
   "execution_count": 55,
   "id": "bd14d00c",
   "metadata": {
    "scrolled": true
   },
   "outputs": [],
   "source": [
    "import numpy as np\n",
    "import pandas as pd\n",
    "import nltk\n",
    "from arabert.preprocess import ArabertPreprocessor\n",
    "from nltk.tokenize import RegexpTokenizer\n",
    "from nltk.corpus import stopwords\n",
    "from sklearn.feature_extraction.text import CountVectorizer\n",
    "from sklearn.metrics import classification_report"
   ]
  },
  {
   "cell_type": "code",
   "execution_count": 2,
   "id": "c073eaa1",
   "metadata": {},
   "outputs": [],
   "source": [
    "df_train_pos = pd.read_csv('D:\\\\Sentiment Analysis\\\\Data\\\\train_Arabic_tweets_positive_20190413.tsv', sep = '\\t', header=None)\n",
    "df_train_neg = pd.read_csv('D:\\\\Sentiment Analysis\\\\Data\\\\train_Arabic_tweets_negative_20190413.tsv', sep = '\\t', header=None)\n",
    "train_df = pd.concat([df_train_pos, df_train_neg],ignore_index=True)\n",
    "train_df.set_axis(['target', 'tweet'], axis=1, inplace=True)"
   ]
  },
  {
   "cell_type": "code",
   "execution_count": 3,
   "id": "cd7e341c",
   "metadata": {},
   "outputs": [
    {
     "data": {
      "text/plain": [
       "pos    22761\n",
       "neg    22514\n",
       "Name: target, dtype: int64"
      ]
     },
     "execution_count": 3,
     "metadata": {},
     "output_type": "execute_result"
    }
   ],
   "source": [
    "train_df['target'].value_counts()"
   ]
  },
  {
   "cell_type": "code",
   "execution_count": 5,
   "id": "4676d9f0",
   "metadata": {},
   "outputs": [
    {
     "data": {
      "text/html": [
       "<div>\n",
       "<style scoped>\n",
       "    .dataframe tbody tr th:only-of-type {\n",
       "        vertical-align: middle;\n",
       "    }\n",
       "\n",
       "    .dataframe tbody tr th {\n",
       "        vertical-align: top;\n",
       "    }\n",
       "\n",
       "    .dataframe thead th {\n",
       "        text-align: right;\n",
       "    }\n",
       "</style>\n",
       "<table border=\"1\" class=\"dataframe\">\n",
       "  <thead>\n",
       "    <tr style=\"text-align: right;\">\n",
       "      <th></th>\n",
       "      <th>target</th>\n",
       "      <th>tweet</th>\n",
       "    </tr>\n",
       "  </thead>\n",
       "  <tbody>\n",
       "    <tr>\n",
       "      <th>0</th>\n",
       "      <td>pos</td>\n",
       "      <td>نحن الذين يتحول كل ما نود أن نقوله إلى دعاء لل...</td>\n",
       "    </tr>\n",
       "    <tr>\n",
       "      <th>1</th>\n",
       "      <td>pos</td>\n",
       "      <td>وفي النهاية لن يبقىٰ معك آحدإلا من رأىٰ الجمال...</td>\n",
       "    </tr>\n",
       "    <tr>\n",
       "      <th>2</th>\n",
       "      <td>pos</td>\n",
       "      <td>من الخير نفسه 💛</td>\n",
       "    </tr>\n",
       "    <tr>\n",
       "      <th>3</th>\n",
       "      <td>pos</td>\n",
       "      <td>#زلزل_الملعب_نصرنا_بيلعب كن عالي الهمه ولا ترض...</td>\n",
       "    </tr>\n",
       "    <tr>\n",
       "      <th>4</th>\n",
       "      <td>pos</td>\n",
       "      <td>الشيء الوحيد الذي وصلوا فيه للعالمية هو : المس...</td>\n",
       "    </tr>\n",
       "  </tbody>\n",
       "</table>\n",
       "</div>"
      ],
      "text/plain": [
       "  target                                              tweet\n",
       "0    pos  نحن الذين يتحول كل ما نود أن نقوله إلى دعاء لل...\n",
       "1    pos  وفي النهاية لن يبقىٰ معك آحدإلا من رأىٰ الجمال...\n",
       "2    pos                                    من الخير نفسه 💛\n",
       "3    pos  #زلزل_الملعب_نصرنا_بيلعب كن عالي الهمه ولا ترض...\n",
       "4    pos  الشيء الوحيد الذي وصلوا فيه للعالمية هو : المس..."
      ]
     },
     "execution_count": 5,
     "metadata": {},
     "output_type": "execute_result"
    }
   ],
   "source": [
    "train_df.head()"
   ]
  },
  {
   "cell_type": "code",
   "execution_count": 6,
   "id": "60129484",
   "metadata": {},
   "outputs": [
    {
     "data": {
      "text/plain": [
       "False    45275\n",
       "Name: tweet, dtype: int64"
      ]
     },
     "execution_count": 6,
     "metadata": {},
     "output_type": "execute_result"
    }
   ],
   "source": [
    "train_df.tweet.isna().value_counts()"
   ]
  },
  {
   "cell_type": "code",
   "execution_count": 11,
   "id": "b5fea5f9",
   "metadata": {},
   "outputs": [],
   "source": [
    "model_name = 'aubmindlab/bert-base-arabertv02'\n",
    "arabert_prep = ArabertPreprocessor(model_name.split(\"/\")[-1])\n",
    "train_df['processed_text'] = train_df.tweet.apply(lambda x: arabert_prep.preprocess(x))"
   ]
  },
  {
   "cell_type": "code",
   "execution_count": 12,
   "id": "2e83c092",
   "metadata": {},
   "outputs": [],
   "source": [
    "train_df = train_df.sample(frac=1)"
   ]
  },
  {
   "cell_type": "code",
   "execution_count": 13,
   "id": "bac758ef",
   "metadata": {},
   "outputs": [
    {
     "data": {
      "text/html": [
       "<div>\n",
       "<style scoped>\n",
       "    .dataframe tbody tr th:only-of-type {\n",
       "        vertical-align: middle;\n",
       "    }\n",
       "\n",
       "    .dataframe tbody tr th {\n",
       "        vertical-align: top;\n",
       "    }\n",
       "\n",
       "    .dataframe thead th {\n",
       "        text-align: right;\n",
       "    }\n",
       "</style>\n",
       "<table border=\"1\" class=\"dataframe\">\n",
       "  <thead>\n",
       "    <tr style=\"text-align: right;\">\n",
       "      <th></th>\n",
       "      <th>target</th>\n",
       "      <th>tweet</th>\n",
       "      <th>processed_text</th>\n",
       "    </tr>\n",
       "  </thead>\n",
       "  <tbody>\n",
       "    <tr>\n",
       "      <th>16155</th>\n",
       "      <td>pos</td>\n",
       "      <td>#نطالب_بفتح_مكبرات_الصوت 🔹 رفع نداء الحق في مك...</td>\n",
       "      <td># نطالب _ بفتح _ مكبرات _ الصوت رفع نداء الحق ...</td>\n",
       "    </tr>\n",
       "    <tr>\n",
       "      <th>14027</th>\n",
       "      <td>pos</td>\n",
       "      <td>ما بس للتأكيد يعني 😂</td>\n",
       "      <td>ما بس للتأكيد يعني</td>\n",
       "    </tr>\n",
       "    <tr>\n",
       "      <th>40790</th>\n",
       "      <td>neg</td>\n",
       "      <td>الكل جالس يقرأ كميتسو 🤐</td>\n",
       "      <td>الكل جالس يقرأ كميتسو</td>\n",
       "    </tr>\n",
       "    <tr>\n",
       "      <th>16041</th>\n",
       "      <td>pos</td>\n",
       "      <td>اللهم آمين 🌼</td>\n",
       "      <td>اللهم آمين</td>\n",
       "    </tr>\n",
       "    <tr>\n",
       "      <th>13253</th>\n",
       "      <td>pos</td>\n",
       "      <td>ما شاء الله تبارك الله 👍</td>\n",
       "      <td>ما شاء الله تبارك الله</td>\n",
       "    </tr>\n",
       "  </tbody>\n",
       "</table>\n",
       "</div>"
      ],
      "text/plain": [
       "      target                                              tweet  \\\n",
       "16155    pos  #نطالب_بفتح_مكبرات_الصوت 🔹 رفع نداء الحق في مك...   \n",
       "14027    pos                               ما بس للتأكيد يعني 😂   \n",
       "40790    neg                            الكل جالس يقرأ كميتسو 🤐   \n",
       "16041    pos                                       اللهم آمين 🌼   \n",
       "13253    pos                           ما شاء الله تبارك الله 👍   \n",
       "\n",
       "                                          processed_text  \n",
       "16155  # نطالب _ بفتح _ مكبرات _ الصوت رفع نداء الحق ...  \n",
       "14027                                 ما بس للتأكيد يعني  \n",
       "40790                              الكل جالس يقرأ كميتسو  \n",
       "16041                                         اللهم آمين  \n",
       "13253                             ما شاء الله تبارك الله  "
      ]
     },
     "execution_count": 13,
     "metadata": {},
     "output_type": "execute_result"
    }
   ],
   "source": [
    "train_df.head()"
   ]
  },
  {
   "cell_type": "code",
   "execution_count": 14,
   "id": "de5af365",
   "metadata": {},
   "outputs": [],
   "source": [
    "data = np.array(train_df['processed_text'])\n",
    "data_l = np.array(train_df['target'])"
   ]
  },
  {
   "cell_type": "code",
   "execution_count": 15,
   "id": "7b7111c2",
   "metadata": {},
   "outputs": [
    {
     "data": {
      "text/plain": [
       "'neg'"
      ]
     },
     "execution_count": 15,
     "metadata": {},
     "output_type": "execute_result"
    }
   ],
   "source": [
    "data_l[2]"
   ]
  },
  {
   "cell_type": "code",
   "execution_count": 16,
   "id": "67ddc5f0",
   "metadata": {},
   "outputs": [],
   "source": [
    "for i in range(len(data_l)):\n",
    "    if data_l[i] == 'pos': data_l[i] = 1\n",
    "    else : data_l[i] = 0"
   ]
  },
  {
   "cell_type": "code",
   "execution_count": 17,
   "id": "2368acd0",
   "metadata": {},
   "outputs": [
    {
     "data": {
      "text/plain": [
       "array([1, 1, 0, ..., 0, 1, 1], dtype=object)"
      ]
     },
     "execution_count": 17,
     "metadata": {},
     "output_type": "execute_result"
    }
   ],
   "source": [
    "data_l"
   ]
  },
  {
   "cell_type": "code",
   "execution_count": 18,
   "id": "1e213fa4",
   "metadata": {},
   "outputs": [],
   "source": [
    "def data_pre(tweet):\n",
    "    \n",
    "    tokenizer = RegexpTokenizer(r'\\w+')\n",
    "    tokens = tokenizer.tokenize(tweet)\n",
    "    stopwords_ara = set(stopwords.words('arabic'))\n",
    "    clean_text = [token for token in tokens if token not in stopwords_ara]\n",
    "    clean_text = \" \".join(clean_text)\n",
    "    return clean_text"
   ]
  },
  {
   "cell_type": "code",
   "execution_count": 19,
   "id": "69df011a",
   "metadata": {},
   "outputs": [],
   "source": [
    "traning = [data_pre(i) for i in data]\n",
    "#testing = [data_pre(i) for i in X_test]"
   ]
  },
  {
   "cell_type": "code",
   "execution_count": 20,
   "id": "2e4f7289",
   "metadata": {},
   "outputs": [],
   "source": [
    "cv = CountVectorizer()"
   ]
  },
  {
   "cell_type": "code",
   "execution_count": 21,
   "id": "442454b1",
   "metadata": {},
   "outputs": [],
   "source": [
    "X_vec = cv.fit_transform(traning).toarray()"
   ]
  },
  {
   "cell_type": "code",
   "execution_count": 22,
   "id": "440d0ebf",
   "metadata": {},
   "outputs": [
    {
     "data": {
      "text/plain": [
       "45275"
      ]
     },
     "execution_count": 22,
     "metadata": {},
     "output_type": "execute_result"
    }
   ],
   "source": [
    "len(X_vec)"
   ]
  },
  {
   "cell_type": "code",
   "execution_count": 24,
   "id": "3edd61b5",
   "metadata": {},
   "outputs": [],
   "source": [
    "t_data = X_vec[:36220]\n",
    "t_label = data_l[:36220]\n",
    "tt_data = X_vec[36220:]\n",
    "tt_label = data_l[36220:]"
   ]
  },
  {
   "cell_type": "code",
   "execution_count": 30,
   "id": "f48fc543",
   "metadata": {},
   "outputs": [
    {
     "data": {
      "text/plain": [
       "9055"
      ]
     },
     "execution_count": 30,
     "metadata": {},
     "output_type": "execute_result"
    }
   ],
   "source": [
    "len(tt_label)"
   ]
  },
  {
   "cell_type": "code",
   "execution_count": 33,
   "id": "87448f63",
   "metadata": {},
   "outputs": [],
   "source": [
    "from sklearn.naive_bayes import MultinomialNB"
   ]
  },
  {
   "cell_type": "code",
   "execution_count": 34,
   "id": "3fa29f8f",
   "metadata": {},
   "outputs": [],
   "source": [
    "mn = MultinomialNB()"
   ]
  },
  {
   "cell_type": "code",
   "execution_count": 35,
   "id": "5ef0099a",
   "metadata": {},
   "outputs": [
    {
     "data": {
      "text/plain": [
       "MultinomialNB()"
      ]
     },
     "execution_count": 35,
     "metadata": {},
     "output_type": "execute_result"
    }
   ],
   "source": [
    "mn.fit(t_data, list(t_label))"
   ]
  },
  {
   "cell_type": "code",
   "execution_count": 36,
   "id": "f848648e",
   "metadata": {},
   "outputs": [],
   "source": [
    "pred = mn.predict(tt_data)"
   ]
  },
  {
   "cell_type": "code",
   "execution_count": 57,
   "id": "5adff72f",
   "metadata": {},
   "outputs": [
    {
     "name": "stdout",
     "output_type": "stream",
     "text": [
      "              precision    recall  f1-score   support\n",
      "\n",
      "           0       0.78      0.79      0.78      4562\n",
      "           1       0.78      0.77      0.77      4493\n",
      "\n",
      "    accuracy                           0.78      9055\n",
      "   macro avg       0.78      0.78      0.78      9055\n",
      "weighted avg       0.78      0.78      0.78      9055\n",
      "\n"
     ]
    }
   ],
   "source": [
    "print(classification_report(list(tt_label), pred))"
   ]
  },
  {
   "cell_type": "code",
   "execution_count": 58,
   "id": "0808c925",
   "metadata": {},
   "outputs": [
    {
     "name": "stderr",
     "output_type": "stream",
     "text": [
      "C:\\Users\\engse\\anaconda3\\envs\\tf_2.7\\lib\\site-packages\\sklearn\\svm\\_base.py:1206: ConvergenceWarning: Liblinear failed to converge, increase the number of iterations.\n",
      "  warnings.warn(\n"
     ]
    },
    {
     "data": {
      "text/plain": [
       "LinearSVC()"
      ]
     },
     "execution_count": 58,
     "metadata": {},
     "output_type": "execute_result"
    }
   ],
   "source": [
    "from sklearn.svm import LinearSVC\n",
    "svc = LinearSVC()\n",
    "svc.fit(t_data, list(t_label))"
   ]
  },
  {
   "cell_type": "code",
   "execution_count": 59,
   "id": "7d33469e",
   "metadata": {},
   "outputs": [],
   "source": [
    "pred1 = svc.predict(tt_data)"
   ]
  },
  {
   "cell_type": "code",
   "execution_count": 60,
   "id": "534ada42",
   "metadata": {},
   "outputs": [
    {
     "name": "stdout",
     "output_type": "stream",
     "text": [
      "              precision    recall  f1-score   support\n",
      "\n",
      "           0       0.77      0.79      0.78      4562\n",
      "           1       0.78      0.76      0.77      4493\n",
      "\n",
      "    accuracy                           0.78      9055\n",
      "   macro avg       0.78      0.78      0.78      9055\n",
      "weighted avg       0.78      0.78      0.78      9055\n",
      "\n"
     ]
    }
   ],
   "source": [
    "print(classification_report(list(tt_label), pred1))"
   ]
  },
  {
   "cell_type": "code",
   "execution_count": 62,
   "id": "2b7eb1ff",
   "metadata": {},
   "outputs": [
    {
     "data": {
      "text/plain": [
       "RandomForestClassifier(n_estimators=3)"
      ]
     },
     "execution_count": 62,
     "metadata": {},
     "output_type": "execute_result"
    }
   ],
   "source": [
    "from sklearn.ensemble import RandomForestClassifier\n",
    "RFM = RandomForestClassifier(n_estimators = 3)\n",
    "RFM.fit(t_data, list(t_label))"
   ]
  },
  {
   "cell_type": "code",
   "execution_count": 63,
   "id": "5d128306",
   "metadata": {},
   "outputs": [],
   "source": [
    "pred2 = RFM.predict(tt_data)"
   ]
  },
  {
   "cell_type": "code",
   "execution_count": 64,
   "id": "fa2814b1",
   "metadata": {},
   "outputs": [
    {
     "name": "stdout",
     "output_type": "stream",
     "text": [
      "              precision    recall  f1-score   support\n",
      "\n",
      "           0       0.75      0.80      0.77      4562\n",
      "           1       0.78      0.73      0.75      4493\n",
      "\n",
      "    accuracy                           0.76      9055\n",
      "   macro avg       0.76      0.76      0.76      9055\n",
      "weighted avg       0.76      0.76      0.76      9055\n",
      "\n"
     ]
    }
   ],
   "source": [
    "print(classification_report(list(tt_label), pred2))"
   ]
  }
 ],
 "metadata": {
  "kernelspec": {
   "display_name": "Python 3 (ipykernel)",
   "language": "python",
   "name": "python3"
  },
  "language_info": {
   "codemirror_mode": {
    "name": "ipython",
    "version": 3
   },
   "file_extension": ".py",
   "mimetype": "text/x-python",
   "name": "python",
   "nbconvert_exporter": "python",
   "pygments_lexer": "ipython3",
   "version": "3.9.0"
  }
 },
 "nbformat": 4,
 "nbformat_minor": 5
}
