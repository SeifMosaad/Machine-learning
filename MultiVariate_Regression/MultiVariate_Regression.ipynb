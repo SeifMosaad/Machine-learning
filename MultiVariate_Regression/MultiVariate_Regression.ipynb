{
 "cells": [
  {
   "cell_type": "code",
   "execution_count": 1,
   "metadata": {},
   "outputs": [],
   "source": [
    "import numpy as np\n",
    "from sklearn.model_selection import train_test_split\n",
    "from matplotlib import pyplot as plt"
   ]
  },
  {
   "cell_type": "code",
   "execution_count": 2,
   "metadata": {},
   "outputs": [],
   "source": [
    "def generate_synthetic_samples(xDim, xCoeff_lst, b, N, Seed = 42):\n",
    "    \"\"\"\n",
    "    Generates a synthetic dataset using a linear equation.\n",
    "    \n",
    "    Params:\n",
    "    ---------\n",
    "    \n",
    "    xDim        dimension of the input features\n",
    "    xCoeff_lst  list of coefficients\n",
    "    b           value of the bias\n",
    "    N           number of samples to generate\n",
    "    Seed        value for the random seed\n",
    "    \"\"\"\n",
    "    # set the random seed, to fix the random generator\n",
    "    np.random.seed(Seed)\n",
    "    \n",
    "    # generates a random ndarray with dimensions N rows & xDim columns \n",
    "    x = np.random.rand(N,xDim) \n",
    "    \n",
    "    # convert the coefficient list into numpy ndarray\n",
    "    xCoeff = np.asarray(xCoeff_lst)\n",
    "    \n",
    "    # calculate the linear combination using numpy vectorization\n",
    "    y = np.dot(x, xCoeff) + b\n",
    "    \n",
    "    # reshape y to be in the same dimensions as x (N, xDim) as (N,1)\n",
    "    y = y.reshape(N, 1)\n",
    "    \n",
    "    # return a tuple that contains x, and y \n",
    "    return (x, y)"
   ]
  },
  {
   "cell_type": "code",
   "execution_count": 3,
   "metadata": {},
   "outputs": [],
   "source": [
    "def MSE_loss(y, y_hat):\n",
    "    \"\"\"\n",
    "    Implements the Mean Square Error loss function for regression\n",
    "    \n",
    "    Params:\n",
    "    ---------\n",
    "    \n",
    "    y     - vector of the true target variable values \n",
    "    y_hat - vector of the predicted target variable value\n",
    "    \"\"\"\n",
    "    return np.square(np.subtract(y, y_hat)).mean()"
   ]
  },
  {
   "cell_type": "code",
   "execution_count": 4,
   "metadata": {},
   "outputs": [],
   "source": [
    "def perform_gradient_training(X, y, lr=0.05, epoch=20, Seed=42):\n",
    "    \"\"\"\n",
    "    Trains a multivariate linear regression model using gradient decent\n",
    "    \"\"\"\n",
    "    \n",
    "    # set the random seed, to fix the random generator\n",
    "    np.random.seed(Seed)\n",
    "        \n",
    "    # initialize randomly the weight and bias parameters of the linear model\n",
    "    xDim = X.shape[1]\n",
    "    w, b = np.random.randn(xDim).reshape(xDim,1), np.random.randn(1)[0]\n",
    "    \n",
    "    # lists to store learning process\n",
    "    param_log, lossVals = [], [] \n",
    "    \n",
    "    # number of samples\n",
    "    N = len(X) \n",
    "    \n",
    "    # Training loops for the specified number of epochs ...\n",
    "    for i in range(epoch):\n",
    "        \n",
    "        y_hat = (np.dot(X, w) + b).reshape(y.shape[0],1)\n",
    "        \n",
    "        loss_term = y -  y_hat # y^i - (w.x^i + b)\n",
    "            \n",
    "        # Updating w and b using partial derivatives of the gradient ...\n",
    "        # dl/dw = {Sum[i=1 to N](-2 * x^i * (y^i - (w.x^i + b)))}/N\n",
    "        # dl/db = {Sum[i=1 to N](-2 * (y^i - (w.x^i + b)))}/N\n",
    "        \n",
    "        # X.transpose() (xDim x N) dot loss_term (N x 1) gives (xDim x 1)\n",
    "        w -= lr * (-2 * X.transpose().dot(loss_term).sum() / N)\n",
    "        b -= lr * (-2 * loss_term.sum() / N)\n",
    "        \n",
    "        param_log.append((w, b))\n",
    "        loss_val = MSE_loss(y,  y_hat)\n",
    "        lossVals.append(loss_val) \n",
    "        \n",
    "        print(\"Finished epoch {}, loss value is {}\".format(i+1,loss_val))\n",
    "    \n",
    "    return w, b, param_log, lossVals"
   ]
  },
  {
   "cell_type": "code",
   "execution_count": 5,
   "metadata": {},
   "outputs": [],
   "source": [
    "# generate the synthetic dataset ...\n",
    "X_synth, y_synth = generate_synthetic_samples(3, [5, 3, 1.5], 6, 1000)"
   ]
  },
  {
   "cell_type": "code",
   "execution_count": 6,
   "metadata": {},
   "outputs": [],
   "source": [
    "# split the generated dataset into train and test splits using builtin Sklearn function\n",
    "X_train, X_test, y_train, y_test = train_test_split(X_synth, y_synth, test_size=0.3, random_state=42)"
   ]
  },
  {
   "cell_type": "code",
   "execution_count": 7,
   "metadata": {},
   "outputs": [
    {
     "name": "stdout",
     "output_type": "stream",
     "text": [
      "Finished epoch 1, loss value is 80.68803498777675\n",
      "Finished epoch 2, loss value is 34.8084858617355\n",
      "Finished epoch 3, loss value is 15.335771541183963\n",
      "Finished epoch 4, loss value is 7.06897043906531\n",
      "Finished epoch 5, loss value is 3.5575010470761\n",
      "Finished epoch 6, loss value is 2.0640287850990617\n",
      "Finished epoch 7, loss value is 1.426952436618958\n",
      "Finished epoch 8, loss value is 1.1533404707884476\n",
      "Finished epoch 9, loss value is 1.0340144132868287\n",
      "Finished epoch 10, loss value is 0.9802077104376227\n",
      "Finished epoch 11, loss value is 0.9542511694163588\n",
      "Finished epoch 12, loss value is 0.9401590069665744\n",
      "Finished epoch 13, loss value is 0.9311469042107787\n",
      "Finished epoch 14, loss value is 0.9243352358527195\n",
      "Finished epoch 15, loss value is 0.9185013610658527\n",
      "Finished epoch 16, loss value is 0.9131257976849643\n",
      "Finished epoch 17, loss value is 0.9079874617097461\n",
      "Finished epoch 18, loss value is 0.9029919051920753\n",
      "Finished epoch 19, loss value is 0.898098428057381\n",
      "Finished epoch 20, loss value is 0.8932891475351379\n"
     ]
    }
   ],
   "source": [
    "w, b, params_log, losses = perform_gradient_training(X_train, y_train)"
   ]
  },
  {
   "cell_type": "code",
   "execution_count": 8,
   "metadata": {},
   "outputs": [
    {
     "data": {
      "text/plain": [
       "Text(0, 0.5, 'MSE loss value')"
      ]
     },
     "execution_count": 8,
     "metadata": {},
     "output_type": "execute_result"
    },
    {
     "data": {
      "image/png": "[encoded data removed]",
      "text/plain": [
       "<Figure size 864x432 with 1 Axes>"
      ]
     },
     "metadata": {
      "needs_background": "light"
     },
     "output_type": "display_data"
    }
   ],
   "source": [
    "num_of_epochs = 20\n",
    "fig = plt.figure(figsize=(12,6))\n",
    "plt.plot(np.arange(1,num_of_epochs + 1), losses)\n",
    "fig.suptitle('Training Linear Regression on Synthetic Dataset', fontsize=20)\n",
    "plt.xlabel('Epochs', fontsize=18)\n",
    "plt.xticks(np.arange(1,num_of_epochs + 1))\n",
    "plt.ylabel('MSE loss value', fontsize=16)"
   ]
  },
  {
   "cell_type": "code",
   "execution_count": 9,
   "metadata": {},
   "outputs": [
    {
     "name": "stdout",
     "output_type": "stream",
     "text": [
      "The trained model can predict the true target variable in training data with error margin equals to 0.89\n"
     ]
    }
   ],
   "source": [
    "final_loss_value = losses[-1]\n",
    "print(\"The trained model can predict the true target variable in training data with error margin equals to {}\".format(np.round(final_loss_value,2)))"
   ]
  },
  {
   "cell_type": "code",
   "execution_count": 10,
   "metadata": {},
   "outputs": [
    {
     "name": "stdout",
     "output_type": "stream",
     "text": [
      "The final optimized parameters values for w = [ 4.40476798  3.76978953  4.55574237], and for b = 4.296057258958749\n"
     ]
    }
   ],
   "source": [
    "final_w = params_log[-1][0].flatten()\n",
    "final_b = params_log[-1][1]\n",
    "print(\"The final optimized parameters values for w = {}, and for b = {}\".format(final_w, final_b))"
   ]
  },
  {
   "cell_type": "code",
   "execution_count": 11,
   "metadata": {},
   "outputs": [
    {
     "name": "stdout",
     "output_type": "stream",
     "text": [
      "The trained model can predict the true target variable in test data with error margin equals to 0.87\n"
     ]
    }
   ],
   "source": [
    "# Testing the trained model on test dataset ...\n",
    "y_hat_test = (np.dot(X_test, final_w) + final_b).reshape(y_test.shape[0],1)\n",
    "test_loss = MSE_loss(y_test, y_hat_test)\n",
    "print(\"The trained model can predict the true target variable in test data with error margin equals to {}\".format(np.round(test_loss,2)))"
   ]
  }
 ],
 "metadata": {
  "kernelspec": {
   "display_name": "Python 3",
   "language": "python",
   "name": "python3"
  },
  "language_info": {
   "codemirror_mode": {
    "name": "ipython",
    "version": 3
   },
   "file_extension": ".py",
   "mimetype": "text/x-python",
   "name": "python",
   "nbconvert_exporter": "python",
   "pygments_lexer": "ipython3",
   "version": "3.6.8"
  }
 },
 "nbformat": 4,
 "nbformat_minor": 2
}
