{
  "nbformat": 4,
  "nbformat_minor": 0,
  "metadata": {
    "kernelspec": {
      "display_name": "Python 3",
      "language": "python",
      "name": "python3"
    },
    "language_info": {
      "codemirror_mode": {
        "name": "ipython",
        "version": 3
      },
      "file_extension": ".py",
      "mimetype": "text/x-python",
      "name": "python",
      "nbconvert_exporter": "python",
      "pygments_lexer": "ipython3",
      "version": "3.6.8"
    },
    "colab": {
      "name": "Assignment1.ipynb",
      "provenance": [],
      "collapsed_sections": []
    }
  },
  "cells": [
    {
      "cell_type": "markdown",
      "metadata": {
        "id": "hN3YHNbObsdh"
      },
      "source": [
        "## <center> <font color='red'> Assignment 1: Train Gaussain Naive Bayes classifier on Iris dataset</font> </center>\n"
      ]
    },
    {
      "cell_type": "code",
      "metadata": {
        "id": "uvXas0AUbsdj"
      },
      "source": [
        "from sklearn import datasets\n",
        "from sklearn import metrics\n",
        "from sklearn.naive_bayes import GaussianNB\n",
        "import numpy as np\n",
        "import matplotlib.pyplot as plt"
      ],
      "execution_count": null,
      "outputs": []
    },
    {
      "cell_type": "code",
      "metadata": {
        "id": "ldnPUy1Zbsdk"
      },
      "source": [
        "def accuracy_metric(actual, predicted):\n",
        "    correct = 0\n",
        "    for i in range(len(actual)):\n",
        "        if actual[i] == predicted[i]:\n",
        "            correct+= 1\n",
        "    return correct / float(len(actual)) * 100.0"
      ],
      "execution_count": null,
      "outputs": []
    },
    {
      "cell_type": "code",
      "metadata": {
        "id": "nGwjwfbabsdl"
      },
      "source": [
        "def plot_decision_boundaries(X, y,x_label,y_label,model_class,**model_params):\n",
        "    \n",
        "    try:\n",
        "        X = np.array(X)\n",
        "        y = np.array(y).flatten()\n",
        "    except:\n",
        "        print(\"Coercing input data to NumPy arrays failed\")\n",
        "    # Reduces to the first two columns of data\n",
        "    reduced_data = X[:, :2]\n",
        "    # Instantiate the model object\n",
        "    model = model_class(**model_params)\n",
        "    # Fits the model with the reduced data\n",
        "    model.fit(reduced_data, y)\n",
        "\n",
        "    # Step size of the mesh. Decrease to increase the quality of the VQ.\n",
        "    h = .02     # point in the mesh [x_min, m_max]x[y_min, y_max].    \n",
        "\n",
        "    # Plot the decision boundary. For that, we will assign a color to each\n",
        "    x_min, x_max = reduced_data[:, 0].min() - 1, reduced_data[:, 0].max() + 1\n",
        "    y_min, y_max = reduced_data[:, 1].min() - 1, reduced_data[:, 1].max() + 1\n",
        "    # Meshgrid creation\n",
        "    xx, yy = np.meshgrid(np.arange(x_min, x_max, h), np.arange(y_min, y_max, h))\n",
        "\n",
        "    # Obtain labels for each point in mesh using the model.\n",
        "    Z = model.predict(np.c_[xx.ravel(), yy.ravel()])    \n",
        "\n",
        "    x_min, x_max = X[:, 0].min() - 1, X[:, 0].max() + 1\n",
        "    y_min, y_max = X[:, 1].min() - 1, X[:, 1].max() + 1\n",
        "    xx, yy = np.meshgrid(np.arange(x_min, x_max, 0.1),\n",
        "                         np.arange(y_min, y_max, 0.1))\n",
        "\n",
        "    # Predictions to obtain the classification results\n",
        "    Z = model.predict(np.c_[xx.ravel(), yy.ravel()]).reshape(xx.shape)\n",
        "\n",
        "    # Plotting\n",
        "    plt.contourf(xx, yy, Z, alpha=0.4)\n",
        "    plt.scatter(X[:, 0], X[:, 1], c=y, alpha=0.8)\n",
        "    plt.xlabel(x_label,fontsize=15)\n",
        "    plt.ylabel(y_label,fontsize=15)\n",
        "    plt.xticks(fontsize=14)\n",
        "    plt.yticks(fontsize=14)\n",
        "    return plt"
      ],
      "execution_count": null,
      "outputs": []
    },
    {
      "cell_type": "code",
      "metadata": {
        "id": "oevCCyg9bsdl"
      },
      "source": [
        "def train_val_test_split(x,y,testRatio=0.3, valRatio=0.3, shuffle=True, random_state=42):\n",
        "    np.random.seed(random_state)\n",
        "    if shuffle:\n",
        "        z = np.hstack((x,y.reshape((y.shape[0], 1)))) # combine the x and y to shuffle\n",
        "        np.random.shuffle(z) # perform shuffling on the combined ndarray\n",
        "        x = z[:,:z.shape[1]-1] # all feature columsn except the last one which is for label\n",
        "        y = z[:,z.shape[1]-1] # only the last column for the label\n",
        "    totalSamples = x.shape[0]\n",
        "    #print(\"The total number of samples is {}\".format(totalSamples))\n",
        "    train_split = int((1-testRatio)*totalSamples) # All training data given the test split\n",
        "    #print(\"The train split is at {}\".format(train_split))\n",
        "    val_split = int(valRatio * train_split) # the Validation data from training data\n",
        "    #print(\"The validation split is at {}\".format(val_split))\n",
        "    return(x[val_split:train_split],y[val_split:train_split],x[:val_split],y[:val_split],x[train_split:],y[train_split:])"
      ],
      "execution_count": null,
      "outputs": []
    },
    {
      "cell_type": "code",
      "metadata": {
        "id": "GuGjbH6Zbsdm"
      },
      "source": [
        "X,Y = datasets.load_iris(return_X_y=True)"
      ],
      "execution_count": null,
      "outputs": []
    },
    {
      "cell_type": "code",
      "metadata": {
        "id": "VP0_VRD1bsdm"
      },
      "source": [
        "xtrain,ytrain,xval,yval,xtest,ytest= train_val_test_split(X,Y,testRatio=0.2, valRatio=0.3, shuffle=True, random_state=32)"
      ],
      "execution_count": null,
      "outputs": []
    },
    {
      "cell_type": "code",
      "metadata": {
        "id": "k9wBJhtCbsdn",
        "outputId": "60e0960f-ee81-4ae9-8812-640e30cf0ce2"
      },
      "source": [
        "print(\"The x_train shape is {}, y_train shape is {}, x_val shape is {}, y_val shape is {}, x_test shape is {}, y_test shape is {}\".format(xtrain.shape,ytrain.shape,xval.shape,yval.shape,xtest.shape,ytest.shape))"
      ],
      "execution_count": null,
      "outputs": [
        {
          "output_type": "stream",
          "text": [
            "The x_train shape is (84, 4), y_train shape is (84,), x_val shape is (36, 4), y_val shape is (36,), x_test shape is (30, 4), y_test shape is (30,)\n"
          ],
          "name": "stdout"
        }
      ]
    },
    {
      "cell_type": "code",
      "metadata": {
        "id": "Oz9VvV_Absdn"
      },
      "source": [
        "#X_train, X_test, y_train, y_test = train_test_split(X, Y, test_size=0.3, random_state=42)"
      ],
      "execution_count": null,
      "outputs": []
    },
    {
      "cell_type": "code",
      "metadata": {
        "id": "FHZa4FaGbsdn",
        "outputId": "9b21da30-c01c-4baf-a56f-1cfaf3e80ea9"
      },
      "source": [
        "model = GaussianNB()\n",
        "model.fit(xtrain, ytrain)"
      ],
      "execution_count": null,
      "outputs": [
        {
          "output_type": "execute_result",
          "data": {
            "text/plain": [
              "GaussianNB(priors=None, var_smoothing=1e-09)"
            ]
          },
          "metadata": {
            "tags": []
          },
          "execution_count": 25
        }
      ]
    },
    {
      "cell_type": "code",
      "metadata": {
        "id": "7n0n1F7Hbsdo",
        "outputId": "e3b21000-9377-4fa3-c33b-b8f7faa6e442"
      },
      "source": [
        "print(\"***Evaluating on validation data***\")\n",
        "expected = yval\n",
        "predicted = model.predict(xval)\n",
        "print(\"\\n===============[ Confusion matrix ]===============\\n\")\n",
        "print(metrics.confusion_matrix(expected, predicted))\n",
        "print(\"\\n===============[ Accuracy Score built-in ]===============\\n\")\n",
        "print(metrics.accuracy_score(expected, predicted)* 100.0)\n",
        "print(\"\\n===============[ Accuracy Score Implemented ]===============\\n\")\n",
        "print(accuracy_metric(expected, predicted))"
      ],
      "execution_count": null,
      "outputs": [
        {
          "output_type": "stream",
          "text": [
            "***Evaluating on validation data***\n",
            "\n",
            "===============[ Confusion matrix ]===============\n",
            "\n",
            "[[15  0  0]\n",
            " [ 0 11  0]\n",
            " [ 0  1  9]]\n",
            "\n",
            "===============[ Accuracy Score built-in ]===============\n",
            "\n",
            "97.2222222222\n",
            "\n",
            "===============[ Accuracy Score Implemented ]===============\n",
            "\n",
            "97.22222222222221\n"
          ],
          "name": "stdout"
        }
      ]
    },
    {
      "cell_type": "code",
      "metadata": {
        "id": "WJcU9Xhwbsdo",
        "outputId": "1a26316d-6a03-4eec-fbac-4b00c178b8d1"
      },
      "source": [
        "print(\"***Evaluating on test data***\")\n",
        "expected = ytest\n",
        "predicted = model.predict(xtest)\n",
        "print(\"\\n===============[ Confusion matrix ]===============\\n\")\n",
        "print(metrics.confusion_matrix(expected, predicted))\n",
        "print(\"\\n===============[ Accuracy Score built-in ]===============\\n\")\n",
        "print(metrics.accuracy_score(expected, predicted)* 100.0)\n",
        "print(\"\\n===============[ Accuracy Score Implemented ]===============\\n\")\n",
        "print(accuracy_metric(expected, predicted))"
      ],
      "execution_count": null,
      "outputs": [
        {
          "output_type": "stream",
          "text": [
            "***Evaluating on test data***\n",
            "\n",
            "===============[ Confusion matrix ]===============\n",
            "\n",
            "[[ 9  0  0]\n",
            " [ 0 10  1]\n",
            " [ 0  1  9]]\n",
            "\n",
            "===============[ Accuracy Score built-in ]===============\n",
            "\n",
            "93.3333333333\n",
            "\n",
            "===============[ Accuracy Score Implemented ]===============\n",
            "\n",
            "93.33333333333333\n"
          ],
          "name": "stdout"
        }
      ]
    },
    {
      "cell_type": "code",
      "metadata": {
        "id": "wWN8uGjkbsdp",
        "outputId": "e88c2820-4343-401f-9763-b661976df933"
      },
      "source": [
        "# Plotting the decision boundaires ...\n",
        "plt.figure(figsize=(10, 8))\n",
        "plt.title(\"Gaussian Naive Bayes classifier decision boundary on Iris dataset\",fontsize=14)\n",
        "plot_decision_boundaries(xtrain,ytrain,\"Sepal length\",\"Sepal width\",GaussianNB)\n",
        "plt.show()"
      ],
      "execution_count": null,
      "outputs": [
        {
          "output_type": "display_data",
          "data": {
            "image/png": "[encoded data removed]",
            "text/plain": [
              "<Figure size 720x576 with 1 Axes>"
            ]
          },
          "metadata": {
            "tags": [],
            "needs_background": "light"
          }
        }
      ]
    }
  ]
}